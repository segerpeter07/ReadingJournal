{
 "cells": [
  {
   "cell_type": "markdown",
   "metadata": {},
   "source": [
    "# Day 2 Reading Journal\n",
    "\n",
    "This journal includes several required exercises, but it is meant to encourage active reading more generally.  You should use the journal to take detailed notes, catalog questions, and explore the content from Think Python deeply.\n",
    "\n",
    "Reading: Think Python Chapter 6.1-6.4, 7\n",
    "\n",
    "**Due: Tuesday, January 24 at 12 noon**\n",
    "\n"
   ]
  },
  {
   "cell_type": "markdown",
   "metadata": {},
   "source": [
    "## [Chapter 6.1-6.4](http://greenteapress.com/thinkpython2/html/thinkpython2007.html)\n",
    "\n",
    "Note: the exercise numbers below match up with the reading for ease of cross referencing."
   ]
  },
  {
   "cell_type": "markdown",
   "metadata": {},
   "source": [
    "**Quick check:** What is a _fruitful function_?"
   ]
  },
  {
   "cell_type": "markdown",
   "metadata": {},
   "source": [
    "A function that produces a return value."
   ]
  },
  {
   "cell_type": "markdown",
   "metadata": {},
   "source": [
    "### Chapter 6.1 \n",
    "Write a `compare` function that returns `1` if `x > y`, `0` if `x == y`, and `-1` if `x < y`."
   ]
  },
  {
   "cell_type": "code",
   "execution_count": null,
   "metadata": {
    "collapsed": false
   },
   "outputs": [],
   "source": [
    ">>> def compare(x,y):\n",
    "...     if(x>y):\n",
    "...             return 1\n",
    "...     elif(x==y):\n",
    "...             return 0\n",
    "...     else:\n",
    "...             return -1\n",
    "... \n",
    ">>> compare(5,2)\n",
    "1\n",
    ">>> compare(2,5)\n",
    "-1\n",
    ">>> compare(2,2)\n",
    "0"
   ]
  },
  {
   "cell_type": "markdown",
   "metadata": {},
   "source": [
    "**Quick check:** Modify the `absolute_value` function so that it returns the correct result for all integer inputs."
   ]
  },
  {
   "cell_type": "code",
   "execution_count": 4,
   "metadata": {
    "collapsed": false
   },
   "outputs": [],
   "source": [
    "def absolute_value(x):\n",
    "    if x < 0:\n",
    "        return -x\n",
    "    else:\n",
    "        return x"
   ]
  },
  {
   "cell_type": "markdown",
   "metadata": {},
   "source": [
    "### Chapter 6.2 \n",
    "Use incremental development to write a function called `hypotenuse` that returns the length of the hypotenuse of a right triangle given the lengths of the two legs as arguments. Record each stage of the development process as you go, using as many cells as you need."
   ]
  },
  {
   "cell_type": "code",
   "execution_count": null,
   "metadata": {
    "collapsed": true
   },
   "outputs": [],
   "source": [
    ">>> def hypotenuse(a,b):\n",
    "...     return(a,' ',b)\n",
    "... \n",
    ">>> hypotenuse(2,3)\n",
    "2   3"
   ]
  },
  {
   "cell_type": "code",
   "execution_count": null,
   "metadata": {
    "collapsed": true
   },
   "outputs": [],
   "source": [
    ">>> def hypotenuse(a,b):\n",
    "...     a2=a**2\n",
    "...     b2=b**2\n",
    "...     return(a2,b2)\n",
    "... \n",
    ">>> hypotenuse(2,3)\n",
    "4 9"
   ]
  },
  {
   "cell_type": "code",
   "execution_count": null,
   "metadata": {
    "collapsed": true
   },
   "outputs": [],
   "source": [
    ">>> def hypotenuse(a,b):\n",
    "...     a2=a**2\n",
    "...     b2=b**2\n",
    "...     c2=a2+b2\n",
    "...     print(c2)\n",
    "... \n",
    ">>> hypotenuse(2,3)\n",
    "13"
   ]
  },
  {
   "cell_type": "code",
   "execution_count": null,
   "metadata": {
    "collapsed": false
   },
   "outputs": [],
   "source": [
    ">>> import math\n",
    ">>> def hypotenuse(a,b):\n",
    "...     a2=a**2\n",
    "...     b2=b**2\n",
    "...     c2=a2+b2\n",
    "...     c=math.sqrt(c2)\n",
    "...     return c\n",
    "... \n",
    ">>> hypotenuse(2,3)\n",
    "3.605551275463989"
   ]
  },
  {
   "cell_type": "markdown",
   "metadata": {},
   "source": [
    "### Chapter 6.4\n",
    "Write a function `is_between(x, y, z)` that returns `True` if `x ≤ y ≤ z` or `False` otherwise."
   ]
  },
  {
   "cell_type": "code",
   "execution_count": null,
   "metadata": {
    "collapsed": false
   },
   "outputs": [],
   "source": [
    ">>> def is_between(x,y,z):\n",
    "...     if (x<y or x==y) and (y<z or y==z):\n",
    "...             return True\n",
    "...     else:\n",
    "...             return False\n",
    "... \n",
    ">>> is_between(1,2,3)\n",
    "True\n",
    ">>> is_between(2,8,4)\n",
    "False"
   ]
  },
  {
   "cell_type": "markdown",
   "metadata": {},
   "source": [
    "## [Chapter 7](http://greenteapress.com/thinkpython2/html/thinkpython2008.html)\n",
    "\n"
   ]
  },
  {
   "cell_type": "markdown",
   "metadata": {},
   "source": [
    "**Quick check:** How do you test for equality in Python?"
   ]
  },
  {
   "cell_type": "markdown",
   "metadata": {},
   "source": [
    "== "
   ]
  },
  {
   "cell_type": "markdown",
   "metadata": {},
   "source": [
    "**Challenge:** Prove/disprove the Collatz conjecture :)"
   ]
  },
  {
   "cell_type": "markdown",
   "metadata": {},
   "source": [
    ":P"
   ]
  },
  {
   "cell_type": "markdown",
   "metadata": {},
   "source": [
    "### Chapter 7.5\n",
    "Encapsulate the loop from Section 7.5 in a function called `square_root` that takes `a` as a parameter, chooses a reasonable value of `x`, and returns an estimate of the square root of `a`."
   ]
  },
  {
   "cell_type": "code",
   "execution_count": null,
   "metadata": {
    "collapsed": true
   },
   "outputs": [],
   "source": [
    ">>> def square_root(a):\n",
    "...     x=a+1\n",
    "...     while True:\n",
    "...             return(x)\n",
    "...             y=(x+a/x)/2\n",
    "...             if y==x:\n",
    "...                     break\n",
    "...             x=y\n",
    "... \n",
    ">>> square_root(9)\n",
    "10\n",
    "5.45\n",
    "3.5506880733944954\n",
    "3.042704026361998\n",
    "3.0002996732267952\n",
    "3.0000000149658455\n",
    "3.0"
   ]
  },
  {
   "cell_type": "markdown",
   "metadata": {},
   "source": [
    "### Exercise 7.1  \n",
    "To test the square root algorithm you developed in Exercise 2, you could compare it with Python's `math.sqrt` function. Write a function named `test_square_root` that prints a table like this:\n",
    "\n",
    "```python\n",
    "1.0 1.0           1.0           0.0\n",
    "2.0 1.41421356237 1.41421356237 2.22044604925e-16\n",
    "3.0 1.73205080757 1.73205080757 0.0\n",
    "4.0 2.0           2.0           0.0\n",
    "5.0 2.2360679775  2.2360679775  0.0\n",
    "6.0 2.44948974278 2.44948974278 0.0\n",
    "7.0 2.64575131106 2.64575131106 0.0\n",
    "8.0 2.82842712475 2.82842712475 4.4408920985e-16\n",
    "9.0 3.0           3.0           0.0\n",
    "```\n",
    "\n",
    "The first column is a number, `a`; the second column is the square root of a computed with the function from Section 7.5; the third column is the square root computed by `math.sqrt`; the fourth column is the absolute value of the difference between the two estimates."
   ]
  },
  {
   "cell_type": "code",
   "execution_count": null,
   "metadata": {
    "collapsed": true
   },
   "outputs": [],
   "source": [
    ">>> import math\n",
    ">>> def test_square_root(i):\n",
    "...     top=i+10\n",
    "...     while i<top:\n",
    "...             my=square_root(i)\n",
    "...             their=math.sqrt(i)\n",
    "...             diff=abs(my-their)\n",
    "...             print(i,' ',my,' ',their,' ',diff)\n",
    "...             i+=1\n",
    "\n",
    ">>> test_square_root(1.0)\n",
    "1.0   1.0   1.0   0.0\n",
    "2.0   1.414213562373095   1.4142135623730951   2.220446049250313e-16\n",
    "3.0   1.7320508075688772   1.7320508075688772   0.0\n",
    "4.0   2.0   2.0   0.0\n",
    "5.0   2.23606797749979   2.23606797749979   0.0\n",
    "6.0   2.449489742783178   2.449489742783178   0.0\n",
    "7.0   2.6457513110645907   2.6457513110645907   0.0\n",
    "8.0   2.82842712474619   2.8284271247461903   4.440892098500626e-16\n",
    "9.0   3.0   3.0   0.0\n",
    "10.0   3.162277660168379   3.1622776601683795   4.440892098500626e-16"
   ]
  },
  {
   "cell_type": "markdown",
   "metadata": {},
   "source": [
    "### Challenge: Exercise 7.3  (optional)\n",
    "The mathematician Srinivasa Ramanujan found an infinite series that can be used to generate a numerical approximation of\n",
    "$\\frac{1}{\\pi}$:\n",
    "\n",
    "$$\\frac{1}{\\pi} = \\frac{2 \\sqrt{2}}{9801} \\sum_{k=0}^{\\infty} \\frac{(4k)! (1103+26390k)}{(k!)^4 396^{4k}}$$\n",
    " \n",
    "Write a function called `estimate_pi` that uses this formula to compute and return an estimate of $\\pi$. It should use a `while` loop to compute terms of the summation until the last term is smaller than `1e-15` (which is Python notation for $10^{−15}$). You can check the result by comparing it to `math.pi`.\n",
    "\n",
    "[Possible solution](http://thinkpython.com/code/pi.py) (give the exercise a try before viewing the solution)"
   ]
  },
  {
   "cell_type": "code",
   "execution_count": null,
   "metadata": {
    "collapsed": true
   },
   "outputs": [],
   "source": [
    ">>> import math\n",
    ">>> def factorial(n):\n",
    "...     if n==0:\n",
    "...             return 1\n",
    "...     else:\n",
    "...             a=factorial(n-1)\n",
    "...             res=n*a\n",
    "...             return res\n",
    "... \n",
    "\n",
    ">>> def factorial(n):\n",
    "...     if n==0:\n",
    "...             return 1\n",
    "...     else:\n",
    "...             a=factorial(n-1)\n",
    "...             res=n*a\n",
    "...             return res\n",
    "... \n",
    ">>> def estimate_pi():\n",
    "...     sum=0\n",
    "...     i=0\n",
    "...     leading_term=2*math.sqrt(2)/9801\n",
    "...     while True:\n",
    "...             num=factorial(4*i)*(1103+26390*k)\n",
    "...             denom=factorial(i)**4*396**(4*i)\n",
    "...             other_term=leading_term*num/denom\n",
    "...             total+=other_term\n",
    "...             if abs(other_term)<1e-15: \n",
    "...                     break\n",
    "...             k+=1\n",
    "...     return 1/total\n",
    "\n"
   ]
  },
  {
   "cell_type": "markdown",
   "metadata": {},
   "source": [
    "## Quick poll\n",
    "\n",
    "About how long did you spend working on this Reading Journal?"
   ]
  },
  {
   "cell_type": "markdown",
   "metadata": {},
   "source": [
    "~40 minutes (not including the challenge)"
   ]
  },
  {
   "cell_type": "markdown",
   "metadata": {},
   "source": [
    "## Reading Journal feedback\n",
    "\n",
    "Have any comments on this Reading Journal? Feel free to leave them below and we'll read them when you submit your journal entry. This could include suggestions to improve the exercises, topics you'd like to see covered in class next time, or other feedback.\n",
    "\n",
    "If you have Python questions or run into problems while completing the reading, you should post them to Piazza instead so you can get a quick response before your journal is submitted."
   ]
  },
  {
   "cell_type": "markdown",
   "metadata": {},
   "source": []
  },
  {
   "cell_type": "markdown",
   "metadata": {},
   "source": [
    " "
   ]
  }
 ],
 "metadata": {
  "kernelspec": {
   "display_name": "Python 3",
   "language": "python",
   "name": "python3"
  },
  "language_info": {
   "codemirror_mode": {
    "name": "ipython",
    "version": 3
   },
   "file_extension": ".py",
   "mimetype": "text/x-python",
   "name": "python",
   "nbconvert_exporter": "python",
   "pygments_lexer": "ipython3",
   "version": "3.5.2"
  }
 },
 "nbformat": 4,
 "nbformat_minor": 0
}
